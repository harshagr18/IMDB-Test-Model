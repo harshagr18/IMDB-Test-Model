{
 "cells": [
  {
   "cell_type": "code",
   "execution_count": 1,
   "metadata": {},
   "outputs": [],
   "source": [
    "from __future__ import absolute_import, division, print_function\n",
    "import tensorflow as tf\n",
    "from tensorflow import keras\n",
    "import numpy as np"
   ]
  },
  {
   "cell_type": "code",
   "execution_count": 2,
   "metadata": {},
   "outputs": [
    {
     "name": "stdout",
     "output_type": "stream",
     "text": [
      "Downloading data from https://storage.googleapis.com/tensorflow/tf-keras-datasets/imdb.npz\n",
      "17465344/17464789 [==============================] - 6s 0us/step\n",
      "Training entries 25000. Labels: 25000\n",
      "218 189\n"
     ]
    }
   ],
   "source": [
    "imdb=keras.datasets.imdb\n",
    "(train_data,train_labels), (test_data, test_labels)=imdb.load_data(num_words=10000)\n",
    "\n",
    "print(f\"Training entries {len(train_data)}. Labels: {len(train_labels)}\")\n",
    "print(len(train_data[0]), len(train_data[1]))"
   ]
  },
  {
   "cell_type": "code",
   "execution_count": 3,
   "metadata": {},
   "outputs": [
    {
     "name": "stdout",
     "output_type": "stream",
     "text": [
      "Downloading data from https://storage.googleapis.com/tensorflow/tf-keras-datasets/imdb_word_index.json\n",
      "1646592/1641221 [==============================] - 1s 0us/step\n"
     ]
    }
   ],
   "source": [
    "word_index=imdb.get_word_index()\n",
    "\n",
    "word_index= {k:(v+3) for k,v in word_index.items()}\n",
    "word_index[\"<pad>\"]=0\n",
    "word_index[\"<Start>\"]=1\n",
    "word_index[\"<unk>\"]=2\n",
    "word_index[\"<unused>\"]=3"
   ]
  },
  {
   "cell_type": "code",
   "execution_count": 4,
   "metadata": {},
   "outputs": [],
   "source": [
    "reverse_word_index=dict([(value,key) for (key, value) in word_index.items()])\n",
    "\n",
    "def decode_reveiw(text):\n",
    "  return\" \".join([reverse_word_index.get(i,\"?\") for i in text])"
   ]
  },
  {
   "cell_type": "code",
   "execution_count": 6,
   "metadata": {},
   "outputs": [
    {
     "name": "stdout",
     "output_type": "stream",
     "text": [
      "[1, 14, 22, 16, 43, 530, 973, 1622, 1385, 65, 458, 4468, 66, 3941, 4, 173, 36, 256, 5, 25, 100, 43, 838, 112, 50, 670, 2, 9, 35, 480, 284, 5, 150, 4, 172, 112, 167, 2, 336, 385, 39, 4, 172, 4536, 1111, 17, 546, 38, 13, 447, 4, 192, 50, 16, 6, 147, 2025, 19, 14, 22, 4, 1920, 4613, 469, 4, 22, 71, 87, 12, 16, 43, 530, 38, 76, 15, 13, 1247, 4, 22, 17, 515, 17, 12, 16, 626, 18, 2, 5, 62, 386, 12, 8, 316, 8, 106, 5, 4, 2223, 5244, 16, 480, 66, 3785, 33, 4, 130, 12, 16, 38, 619, 5, 25, 124, 51, 36, 135, 48, 25, 1415, 33, 6, 22, 12, 215, 28, 77, 52, 5, 14, 407, 16, 82, 2, 8, 4, 107, 117, 5952, 15, 256, 4, 2, 7, 3766, 5, 723, 36, 71, 43, 530, 476, 26, 400, 317, 46, 7, 4, 2, 1029, 13, 104, 88, 4, 381, 15, 297, 98, 32, 2071, 56, 26, 141, 6, 194, 7486, 18, 4, 226, 22, 21, 134, 476, 26, 480, 5, 144, 30, 5535, 18, 51, 36, 28, 224, 92, 25, 104, 4, 226, 65, 16, 38, 1334, 88, 12, 16, 283, 5, 16, 4472, 113, 103, 32, 15, 16, 5345, 19, 178, 32]\n",
      "<Start> this film was just brilliant casting location scenery story direction everyone's really suited the part they played and you could just imagine being there robert <unk> is an amazing actor and now the same being director <unk> father came from the same scottish island as myself so i loved the fact there was a real connection with this film the witty remarks throughout the film were great it was just brilliant so much that i bought the film as soon as it was released for <unk> and would recommend it to everyone to watch and the fly fishing was amazing really cried at the end it was so sad and you know what they say if you cry at a film it must have been good and this definitely was also <unk> to the two little boy's that played the <unk> of norman and paul they were just brilliant children are often left out of the <unk> list i think because the stars that play them all grown up are such a big profile for the whole film but these children are amazing and should be praised for what they have done don't you think the whole story was so lovely because it was true and was someone's life after all that was shared with us all\n"
     ]
    }
   ],
   "source": [
    "print(train_data[0])\n",
    "print(decode_reveiw(train_data[0]))"
   ]
  },
  {
   "cell_type": "code",
   "execution_count": 7,
   "metadata": {},
   "outputs": [
    {
     "name": "stdout",
     "output_type": "stream",
     "text": [
      "256 256\n",
      "[   1   14   22   16   43  530  973 1622 1385   65  458 4468   66 3941\n",
      "    4  173   36  256    5   25  100   43  838  112   50  670    2    9\n",
      "   35  480  284    5  150    4  172  112  167    2  336  385   39    4\n",
      "  172 4536 1111   17  546   38   13  447    4  192   50   16    6  147\n",
      " 2025   19   14   22    4 1920 4613  469    4   22   71   87   12   16\n",
      "   43  530   38   76   15   13 1247    4   22   17  515   17   12   16\n",
      "  626   18    2    5   62  386   12    8  316    8  106    5    4 2223\n",
      " 5244   16  480   66 3785   33    4  130   12   16   38  619    5   25\n",
      "  124   51   36  135   48   25 1415   33    6   22   12  215   28   77\n",
      "   52    5   14  407   16   82    2    8    4  107  117 5952   15  256\n",
      "    4    2    7 3766    5  723   36   71   43  530  476   26  400  317\n",
      "   46    7    4    2 1029   13  104   88    4  381   15  297   98   32\n",
      " 2071   56   26  141    6  194 7486   18    4  226   22   21  134  476\n",
      "   26  480    5  144   30 5535   18   51   36   28  224   92   25  104\n",
      "    4  226   65   16   38 1334   88   12   16  283    5   16 4472  113\n",
      "  103   32   15   16 5345   19  178   32    0    0    0    0    0    0\n",
      "    0    0    0    0    0    0    0    0    0    0    0    0    0    0\n",
      "    0    0    0    0    0    0    0    0    0    0    0    0    0    0\n",
      "    0    0    0    0]\n"
     ]
    }
   ],
   "source": [
    "train_data=keras.preprocessing.sequence.pad_sequences(train_data,\n",
    "                                                     value=word_index[\"<pad>\"],\n",
    "                                                     padding=\"post\",\n",
    "                                                     maxlen=256)\n",
    "\n",
    "\n",
    "test_data=keras.preprocessing.sequence.pad_sequences(test_data,\n",
    "                                                     value=word_index[\"<pad>\"],\n",
    "                                                     padding=\"post\",\n",
    "                                                     maxlen=256)\n",
    "print(len(train_data[0]), len(train_data[1]))\n",
    "print(train_data[0])"
   ]
  },
  {
   "cell_type": "code",
   "execution_count": 8,
   "metadata": {},
   "outputs": [
    {
     "name": "stdout",
     "output_type": "stream",
     "text": [
      "Model: \"sequential\"\n",
      "_________________________________________________________________\n",
      "Layer (type)                 Output Shape              Param #   \n",
      "=================================================================\n",
      "embedding (Embedding)        (None, None, 16)          160000    \n",
      "_________________________________________________________________\n",
      "global_average_pooling1d (Gl (None, 16)                0         \n",
      "_________________________________________________________________\n",
      "dense (Dense)                (None, 16)                272       \n",
      "_________________________________________________________________\n",
      "dense_1 (Dense)              (None, 1)                 17        \n",
      "=================================================================\n",
      "Total params: 160,289\n",
      "Trainable params: 160,289\n",
      "Non-trainable params: 0\n",
      "_________________________________________________________________\n"
     ]
    }
   ],
   "source": [
    "###neural network\n",
    "vocab_size=10000\n",
    "#inputlayer\n",
    "model=keras.Sequential()\n",
    "model.add(keras.layers.Embedding(vocab_size, 16))\n",
    "#hiddenlayer\n",
    "model.add(keras.layers.GlobalAveragePooling1D())\n",
    "model.add(keras.layers.Dense(16, activation=tf.nn.relu))\n",
    "#output layer\n",
    "model.add(keras.layers.Dense(1, activation=tf.nn.sigmoid))\n",
    "\n",
    "\n",
    "model.summary()"
   ]
  },
  {
   "cell_type": "code",
   "execution_count": 9,
   "metadata": {},
   "outputs": [],
   "source": [
    "#loss function\n",
    "model.compile(optimizer=\"adam\",\n",
    "              loss=\"binary_crossentropy\",\n",
    "              metrics=[\"acc\"])\n",
    "\n",
    "\n",
    "x_val=train_data[:10000]\n",
    "partial_x_train=train_data[10000:]\n",
    "\n",
    "\n",
    "y_val=train_labels[:10000]\n",
    "partial_y_train=train_labels[10000:]"
   ]
  },
  {
   "cell_type": "code",
   "execution_count": 10,
   "metadata": {},
   "outputs": [
    {
     "name": "stdout",
     "output_type": "stream",
     "text": [
      "Epoch 1/75\n",
      "200/200 [==============================] - 1s 6ms/step - loss: 0.6660 - acc: 0.6889 - val_loss: 0.6055 - val_acc: 0.7887\n",
      "Epoch 2/75\n",
      "200/200 [==============================] - 1s 3ms/step - loss: 0.4880 - acc: 0.8336 - val_loss: 0.4062 - val_acc: 0.8526\n",
      "Epoch 3/75\n",
      "200/200 [==============================] - 1s 3ms/step - loss: 0.3318 - acc: 0.8818 - val_loss: 0.3300 - val_acc: 0.8706\n",
      "Epoch 4/75\n",
      "200/200 [==============================] - 1s 3ms/step - loss: 0.2618 - acc: 0.9020 - val_loss: 0.2967 - val_acc: 0.8814\n",
      "Epoch 5/75\n",
      "200/200 [==============================] - 1s 3ms/step - loss: 0.2193 - acc: 0.9200 - val_loss: 0.2839 - val_acc: 0.8861\n",
      "Epoch 6/75\n",
      "200/200 [==============================] - 1s 4ms/step - loss: 0.1887 - acc: 0.9329 - val_loss: 0.2798 - val_acc: 0.8874\n",
      "Epoch 7/75\n",
      "200/200 [==============================] - 1s 3ms/step - loss: 0.1640 - acc: 0.9450 - val_loss: 0.2826 - val_acc: 0.8884\n",
      "Epoch 8/75\n",
      "200/200 [==============================] - 1s 4ms/step - loss: 0.1429 - acc: 0.9534 - val_loss: 0.2871 - val_acc: 0.8860\n",
      "Epoch 9/75\n",
      "200/200 [==============================] - 1s 4ms/step - loss: 0.1260 - acc: 0.9603 - val_loss: 0.2940 - val_acc: 0.8866\n",
      "Epoch 10/75\n",
      "200/200 [==============================] - 1s 4ms/step - loss: 0.1108 - acc: 0.9677 - val_loss: 0.3040 - val_acc: 0.8861\n",
      "Epoch 11/75\n",
      "200/200 [==============================] - 1s 4ms/step - loss: 0.0969 - acc: 0.9728 - val_loss: 0.3183 - val_acc: 0.8834\n",
      "Epoch 12/75\n",
      "200/200 [==============================] - 1s 4ms/step - loss: 0.0859 - acc: 0.9771 - val_loss: 0.3314 - val_acc: 0.8805\n",
      "Epoch 13/75\n",
      "200/200 [==============================] - 1s 4ms/step - loss: 0.0754 - acc: 0.9813 - val_loss: 0.3488 - val_acc: 0.8787\n",
      "Epoch 14/75\n",
      "200/200 [==============================] - 1s 4ms/step - loss: 0.0664 - acc: 0.9845 - val_loss: 0.3641 - val_acc: 0.8788\n",
      "Epoch 15/75\n",
      "200/200 [==============================] - 1s 4ms/step - loss: 0.0580 - acc: 0.9877 - val_loss: 0.3815 - val_acc: 0.8760\n",
      "Epoch 16/75\n",
      "200/200 [==============================] - 1s 3ms/step - loss: 0.0515 - acc: 0.9891 - val_loss: 0.4003 - val_acc: 0.8744\n",
      "Epoch 17/75\n",
      "200/200 [==============================] - 1s 3ms/step - loss: 0.0443 - acc: 0.9923 - val_loss: 0.4237 - val_acc: 0.8729\n",
      "Epoch 18/75\n",
      "200/200 [==============================] - 1s 4ms/step - loss: 0.0388 - acc: 0.9941 - val_loss: 0.4399 - val_acc: 0.8737\n",
      "Epoch 19/75\n",
      "200/200 [==============================] - 1s 4ms/step - loss: 0.0342 - acc: 0.9947 - val_loss: 0.4618 - val_acc: 0.8708\n",
      "Epoch 20/75\n",
      "200/200 [==============================] - 1s 4ms/step - loss: 0.0298 - acc: 0.9949 - val_loss: 0.4795 - val_acc: 0.8681\n",
      "Epoch 21/75\n",
      "200/200 [==============================] - 1s 4ms/step - loss: 0.0254 - acc: 0.9962 - val_loss: 0.5096 - val_acc: 0.8684\n",
      "Epoch 22/75\n",
      "200/200 [==============================] - 1s 4ms/step - loss: 0.0216 - acc: 0.9972 - val_loss: 0.5365 - val_acc: 0.8657\n",
      "Epoch 23/75\n",
      "200/200 [==============================] - 1s 4ms/step - loss: 0.0183 - acc: 0.9980 - val_loss: 0.5524 - val_acc: 0.8668\n",
      "Epoch 24/75\n",
      "200/200 [==============================] - 1s 4ms/step - loss: 0.0157 - acc: 0.9981 - val_loss: 0.5732 - val_acc: 0.8606\n",
      "Epoch 25/75\n",
      "200/200 [==============================] - 1s 4ms/step - loss: 0.0132 - acc: 0.9987 - val_loss: 0.5966 - val_acc: 0.8648\n",
      "Epoch 26/75\n",
      "200/200 [==============================] - 1s 4ms/step - loss: 0.0108 - acc: 0.9990 - val_loss: 0.6240 - val_acc: 0.8631\n",
      "Epoch 27/75\n",
      "200/200 [==============================] - 1s 4ms/step - loss: 0.0088 - acc: 0.9992 - val_loss: 0.6503 - val_acc: 0.8636\n",
      "Epoch 28/75\n",
      "200/200 [==============================] - 1s 4ms/step - loss: 0.0070 - acc: 0.9997 - val_loss: 0.6772 - val_acc: 0.8616\n",
      "Epoch 29/75\n",
      "200/200 [==============================] - 1s 4ms/step - loss: 0.0060 - acc: 0.9997 - val_loss: 0.6923 - val_acc: 0.8619\n",
      "Epoch 30/75\n",
      "200/200 [==============================] - 1s 4ms/step - loss: 0.0049 - acc: 0.9997 - val_loss: 0.7177 - val_acc: 0.8622\n",
      "Epoch 31/75\n",
      "200/200 [==============================] - 1s 4ms/step - loss: 0.0041 - acc: 0.9997 - val_loss: 0.7387 - val_acc: 0.8618\n",
      "Epoch 32/75\n",
      "200/200 [==============================] - 1s 4ms/step - loss: 0.0035 - acc: 0.9999 - val_loss: 0.7664 - val_acc: 0.8622\n",
      "Epoch 33/75\n",
      "200/200 [==============================] - 1s 4ms/step - loss: 0.0030 - acc: 0.9999 - val_loss: 0.7848 - val_acc: 0.8604\n",
      "Epoch 34/75\n",
      "200/200 [==============================] - 1s 4ms/step - loss: 0.0032 - acc: 0.9997 - val_loss: 0.8138 - val_acc: 0.8600\n",
      "Epoch 35/75\n",
      "200/200 [==============================] - 1s 4ms/step - loss: 0.0023 - acc: 0.9999 - val_loss: 0.8228 - val_acc: 0.8590\n",
      "Epoch 36/75\n",
      "200/200 [==============================] - 1s 4ms/step - loss: 0.0020 - acc: 0.9999 - val_loss: 0.8667 - val_acc: 0.8589\n",
      "Epoch 37/75\n",
      "200/200 [==============================] - 1s 4ms/step - loss: 0.0017 - acc: 0.9999 - val_loss: 0.8757 - val_acc: 0.8579\n",
      "Epoch 38/75\n",
      "200/200 [==============================] - 1s 4ms/step - loss: 0.0015 - acc: 0.9999 - val_loss: 0.8943 - val_acc: 0.8580\n",
      "Epoch 39/75\n",
      "200/200 [==============================] - 1s 4ms/step - loss: 0.0013 - acc: 0.9999 - val_loss: 0.9038 - val_acc: 0.8570\n",
      "Epoch 40/75\n",
      "200/200 [==============================] - 1s 4ms/step - loss: 0.0012 - acc: 0.9999 - val_loss: 0.9392 - val_acc: 0.8579\n",
      "Epoch 41/75\n",
      "200/200 [==============================] - 1s 4ms/step - loss: 9.1950e-04 - acc: 1.0000 - val_loss: 0.9467 - val_acc: 0.8573\n",
      "Epoch 42/75\n",
      "200/200 [==============================] - 1s 4ms/step - loss: 9.2915e-04 - acc: 0.9999 - val_loss: 0.9672 - val_acc: 0.8574\n",
      "Epoch 43/75\n",
      "200/200 [==============================] - 1s 4ms/step - loss: 7.4579e-04 - acc: 0.9999 - val_loss: 1.0172 - val_acc: 0.8570\n",
      "Epoch 44/75\n",
      "200/200 [==============================] - 1s 4ms/step - loss: 6.2125e-04 - acc: 1.0000 - val_loss: 1.0007 - val_acc: 0.8565\n",
      "Epoch 45/75\n",
      "200/200 [==============================] - 1s 4ms/step - loss: 6.5720e-04 - acc: 1.0000 - val_loss: 1.0187 - val_acc: 0.8568\n",
      "Epoch 46/75\n",
      "200/200 [==============================] - 1s 4ms/step - loss: 4.7195e-04 - acc: 1.0000 - val_loss: 1.0459 - val_acc: 0.8565\n",
      "Epoch 47/75\n",
      "200/200 [==============================] - 1s 4ms/step - loss: 4.4096e-04 - acc: 1.0000 - val_loss: 1.0572 - val_acc: 0.8557\n",
      "Epoch 48/75\n",
      "200/200 [==============================] - 1s 4ms/step - loss: 4.7960e-04 - acc: 0.9999 - val_loss: 1.0855 - val_acc: 0.8563\n",
      "Epoch 49/75\n",
      "200/200 [==============================] - 1s 4ms/step - loss: 4.1442e-04 - acc: 1.0000 - val_loss: 1.1025 - val_acc: 0.8552\n",
      "Epoch 50/75\n",
      "200/200 [==============================] - 1s 4ms/step - loss: 2.8499e-04 - acc: 1.0000 - val_loss: 1.1108 - val_acc: 0.8537\n",
      "Epoch 51/75\n",
      "200/200 [==============================] - 1s 4ms/step - loss: 2.6571e-04 - acc: 1.0000 - val_loss: 1.1294 - val_acc: 0.8536\n",
      "Epoch 52/75\n",
      "200/200 [==============================] - 1s 4ms/step - loss: 2.3750e-04 - acc: 1.0000 - val_loss: 1.1612 - val_acc: 0.8547\n",
      "Epoch 53/75\n",
      "200/200 [==============================] - 1s 4ms/step - loss: 2.3552e-04 - acc: 1.0000 - val_loss: 1.1712 - val_acc: 0.8557\n",
      "Epoch 54/75\n",
      "200/200 [==============================] - 1s 3ms/step - loss: 1.8174e-04 - acc: 1.0000 - val_loss: 1.1846 - val_acc: 0.8545\n",
      "Epoch 55/75\n",
      "200/200 [==============================] - 1s 4ms/step - loss: 1.6460e-04 - acc: 1.0000 - val_loss: 1.2266 - val_acc: 0.8539\n",
      "Epoch 56/75\n",
      "200/200 [==============================] - 1s 4ms/step - loss: 3.1901e-04 - acc: 1.0000 - val_loss: 1.2260 - val_acc: 0.8540\n",
      "Epoch 57/75\n",
      "200/200 [==============================] - 1s 4ms/step - loss: 1.2741e-04 - acc: 1.0000 - val_loss: 1.2423 - val_acc: 0.8539\n",
      "Epoch 58/75\n",
      "200/200 [==============================] - 1s 4ms/step - loss: 9.9881e-05 - acc: 1.0000 - val_loss: 1.2501 - val_acc: 0.8531\n",
      "Epoch 59/75\n",
      "200/200 [==============================] - 1s 4ms/step - loss: 1.0422e-04 - acc: 1.0000 - val_loss: 1.2731 - val_acc: 0.8534\n",
      "Epoch 60/75\n",
      "200/200 [==============================] - 1s 4ms/step - loss: 1.1948e-04 - acc: 1.0000 - val_loss: 1.3084 - val_acc: 0.8542\n",
      "Epoch 61/75\n",
      "200/200 [==============================] - 1s 4ms/step - loss: 7.7408e-05 - acc: 1.0000 - val_loss: 1.3061 - val_acc: 0.8527\n",
      "Epoch 62/75\n"
     ]
    },
    {
     "name": "stdout",
     "output_type": "stream",
     "text": [
      "200/200 [==============================] - 1s 4ms/step - loss: 7.5653e-05 - acc: 1.0000 - val_loss: 1.3500 - val_acc: 0.8526\n",
      "Epoch 63/75\n",
      "200/200 [==============================] - 1s 4ms/step - loss: 6.8942e-05 - acc: 1.0000 - val_loss: 1.3386 - val_acc: 0.8523\n",
      "Epoch 64/75\n",
      "200/200 [==============================] - 1s 4ms/step - loss: 5.2534e-05 - acc: 1.0000 - val_loss: 1.3490 - val_acc: 0.8528\n",
      "Epoch 65/75\n",
      "200/200 [==============================] - 1s 4ms/step - loss: 5.5577e-05 - acc: 1.0000 - val_loss: 1.3622 - val_acc: 0.8526\n",
      "Epoch 66/75\n",
      "200/200 [==============================] - 1s 4ms/step - loss: 4.7452e-05 - acc: 1.0000 - val_loss: 1.3845 - val_acc: 0.8531\n",
      "Epoch 67/75\n",
      "200/200 [==============================] - 1s 4ms/step - loss: 3.5693e-05 - acc: 1.0000 - val_loss: 1.3887 - val_acc: 0.8522\n",
      "Epoch 68/75\n",
      "200/200 [==============================] - 1s 5ms/step - loss: 3.6442e-05 - acc: 1.0000 - val_loss: 1.4267 - val_acc: 0.8528\n",
      "Epoch 69/75\n",
      "200/200 [==============================] - 1s 4ms/step - loss: 3.4589e-05 - acc: 1.0000 - val_loss: 1.4315 - val_acc: 0.8529\n",
      "Epoch 70/75\n",
      "200/200 [==============================] - 1s 4ms/step - loss: 3.8360e-05 - acc: 1.0000 - val_loss: 1.4858 - val_acc: 0.8505\n",
      "Epoch 71/75\n",
      "200/200 [==============================] - 1s 4ms/step - loss: 2.9567e-05 - acc: 1.0000 - val_loss: 1.4577 - val_acc: 0.8519\n",
      "Epoch 72/75\n",
      "200/200 [==============================] - 1s 4ms/step - loss: 2.1965e-05 - acc: 1.0000 - val_loss: 1.4713 - val_acc: 0.8520\n",
      "Epoch 73/75\n",
      "200/200 [==============================] - 1s 4ms/step - loss: 2.0295e-05 - acc: 1.0000 - val_loss: 1.4901 - val_acc: 0.8516\n",
      "Epoch 74/75\n",
      "200/200 [==============================] - 1s 4ms/step - loss: 1.7739e-05 - acc: 1.0000 - val_loss: 1.5131 - val_acc: 0.8525\n",
      "Epoch 75/75\n",
      "200/200 [==============================] - 1s 4ms/step - loss: 1.5727e-05 - acc: 1.0000 - val_loss: 1.5230 - val_acc: 0.8514\n"
     ]
    }
   ],
   "source": [
    "history=model.fit(partial_x_train,\n",
    "                  partial_y_train,\n",
    "                  epochs=75,\n",
    "                  batch_size=75,\n",
    "                  validation_data=(x_val, y_val),\n",
    "                  verbose=1)\n"
   ]
  },
  {
   "cell_type": "code",
   "execution_count": 11,
   "metadata": {},
   "outputs": [
    {
     "name": "stdout",
     "output_type": "stream",
     "text": [
      "782/782 [==============================] - 1s 817us/step - loss: 1.6194 - acc: 0.8387\n",
      "[1.6194162368774414, 0.8387200236320496]\n"
     ]
    }
   ],
   "source": [
    "results=model.evaluate(test_data,test_labels)\n",
    "print(results)"
   ]
  }
 ],
 "metadata": {
  "kernelspec": {
   "display_name": "Python 3",
   "language": "python",
   "name": "python3"
  },
  "language_info": {
   "codemirror_mode": {
    "name": "ipython",
    "version": 3
   },
   "file_extension": ".py",
   "mimetype": "text/x-python",
   "name": "python",
   "nbconvert_exporter": "python",
   "pygments_lexer": "ipython3",
   "version": "3.7.5"
  }
 },
 "nbformat": 4,
 "nbformat_minor": 2
}
