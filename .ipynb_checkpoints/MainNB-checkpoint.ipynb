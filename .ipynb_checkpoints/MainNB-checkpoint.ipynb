{
 "cells": [
  {
   "cell_type": "code",
   "execution_count": 1,
   "metadata": {},
   "outputs": [],
   "source": [
    "from __future__ import absolute_import, division, print_function\n",
    "import tensorflow as tf\n",
    "from tensorflow import keras\n",
    "import numpy as np"
   ]
  },
  {
   "cell_type": "code",
   "execution_count": 2,
   "metadata": {},
   "outputs": [
    {
     "name": "stdout",
     "output_type": "stream",
     "text": [
      "Training entries 25000. Labels: 25000\n",
      "218 189\n"
     ]
    }
   ],
   "source": [
    "imdb=keras.datasets.imdb\n",
    "(train_data,train_labels), (test_data, test_labels)=imdb.load_data(num_words=10000)\n",
    "\n",
    "print(f\"Training entries {len(train_data)}. Labels: {len(train_labels)}\")\n",
    "print(len(train_data[0]), len(train_data[1]))"
   ]
  },
  {
   "cell_type": "code",
   "execution_count": 3,
   "metadata": {},
   "outputs": [],
   "source": [
    "word_index=imdb.get_word_index()\n",
    "\n",
    "word_index= {k:(v+3) for k,v in word_index.items()}\n",
    "word_index[\"<pad>\"]=0\n",
    "word_index[\"<Start>\"]=1\n",
    "word_index[\"<unk>\"]=2\n",
    "word_index[\"<unused>\"]=3"
   ]
  },
  {
   "cell_type": "code",
   "execution_count": 4,
   "metadata": {},
   "outputs": [],
   "source": [
    "reverse_word_index=dict([(value,key) for (key, value) in word_index.items()])\n",
    "\n",
    "def decode_reveiw(text):\n",
    "  return\" \".join([reverse_word_index.get(i,\"?\") for i in text])"
   ]
  },
  {
   "cell_type": "code",
   "execution_count": 5,
   "metadata": {},
   "outputs": [
    {
     "name": "stdout",
     "output_type": "stream",
     "text": [
      "[1, 14, 22, 16, 43, 530, 973, 1622, 1385, 65, 458, 4468, 66, 3941, 4, 173, 36, 256, 5, 25, 100, 43, 838, 112, 50, 670, 2, 9, 35, 480, 284, 5, 150, 4, 172, 112, 167, 2, 336, 385, 39, 4, 172, 4536, 1111, 17, 546, 38, 13, 447, 4, 192, 50, 16, 6, 147, 2025, 19, 14, 22, 4, 1920, 4613, 469, 4, 22, 71, 87, 12, 16, 43, 530, 38, 76, 15, 13, 1247, 4, 22, 17, 515, 17, 12, 16, 626, 18, 2, 5, 62, 386, 12, 8, 316, 8, 106, 5, 4, 2223, 5244, 16, 480, 66, 3785, 33, 4, 130, 12, 16, 38, 619, 5, 25, 124, 51, 36, 135, 48, 25, 1415, 33, 6, 22, 12, 215, 28, 77, 52, 5, 14, 407, 16, 82, 2, 8, 4, 107, 117, 5952, 15, 256, 4, 2, 7, 3766, 5, 723, 36, 71, 43, 530, 476, 26, 400, 317, 46, 7, 4, 2, 1029, 13, 104, 88, 4, 381, 15, 297, 98, 32, 2071, 56, 26, 141, 6, 194, 7486, 18, 4, 226, 22, 21, 134, 476, 26, 480, 5, 144, 30, 5535, 18, 51, 36, 28, 224, 92, 25, 104, 4, 226, 65, 16, 38, 1334, 88, 12, 16, 283, 5, 16, 4472, 113, 103, 32, 15, 16, 5345, 19, 178, 32]\n",
      "<Start> this film was just brilliant casting location scenery story direction everyone's really suited the part they played and you could just imagine being there robert <unk> is an amazing actor and now the same being director <unk> father came from the same scottish island as myself so i loved the fact there was a real connection with this film the witty remarks throughout the film were great it was just brilliant so much that i bought the film as soon as it was released for <unk> and would recommend it to everyone to watch and the fly fishing was amazing really cried at the end it was so sad and you know what they say if you cry at a film it must have been good and this definitely was also <unk> to the two little boy's that played the <unk> of norman and paul they were just brilliant children are often left out of the <unk> list i think because the stars that play them all grown up are such a big profile for the whole film but these children are amazing and should be praised for what they have done don't you think the whole story was so lovely because it was true and was someone's life after all that was shared with us all\n"
     ]
    }
   ],
   "source": [
    "print(train_data[0])\n",
    "print(decode_reveiw(train_data[0]))"
   ]
  },
  {
   "cell_type": "code",
   "execution_count": 6,
   "metadata": {},
   "outputs": [
    {
     "name": "stdout",
     "output_type": "stream",
     "text": [
      "256 256\n",
      "[   1   14   22   16   43  530  973 1622 1385   65  458 4468   66 3941\n",
      "    4  173   36  256    5   25  100   43  838  112   50  670    2    9\n",
      "   35  480  284    5  150    4  172  112  167    2  336  385   39    4\n",
      "  172 4536 1111   17  546   38   13  447    4  192   50   16    6  147\n",
      " 2025   19   14   22    4 1920 4613  469    4   22   71   87   12   16\n",
      "   43  530   38   76   15   13 1247    4   22   17  515   17   12   16\n",
      "  626   18    2    5   62  386   12    8  316    8  106    5    4 2223\n",
      " 5244   16  480   66 3785   33    4  130   12   16   38  619    5   25\n",
      "  124   51   36  135   48   25 1415   33    6   22   12  215   28   77\n",
      "   52    5   14  407   16   82    2    8    4  107  117 5952   15  256\n",
      "    4    2    7 3766    5  723   36   71   43  530  476   26  400  317\n",
      "   46    7    4    2 1029   13  104   88    4  381   15  297   98   32\n",
      " 2071   56   26  141    6  194 7486   18    4  226   22   21  134  476\n",
      "   26  480    5  144   30 5535   18   51   36   28  224   92   25  104\n",
      "    4  226   65   16   38 1334   88   12   16  283    5   16 4472  113\n",
      "  103   32   15   16 5345   19  178   32    0    0    0    0    0    0\n",
      "    0    0    0    0    0    0    0    0    0    0    0    0    0    0\n",
      "    0    0    0    0    0    0    0    0    0    0    0    0    0    0\n",
      "    0    0    0    0]\n"
     ]
    }
   ],
   "source": [
    "train_data=keras.preprocessing.sequence.pad_sequences(train_data,\n",
    "                                                     value=word_index[\"<pad>\"],\n",
    "                                                     padding=\"post\",\n",
    "                                                     maxlen=256)\n",
    "\n",
    "\n",
    "test_data=keras.preprocessing.sequence.pad_sequences(test_data,\n",
    "                                                     value=word_index[\"<pad>\"],\n",
    "                                                     padding=\"post\",\n",
    "                                                     maxlen=256)\n",
    "print(len(train_data[0]), len(train_data[1]))\n",
    "print(train_data[0])"
   ]
  },
  {
   "cell_type": "code",
   "execution_count": 7,
   "metadata": {},
   "outputs": [
    {
     "name": "stdout",
     "output_type": "stream",
     "text": [
      "Model: \"sequential\"\n",
      "_________________________________________________________________\n",
      "Layer (type)                 Output Shape              Param #   \n",
      "=================================================================\n",
      "embedding (Embedding)        (None, None, 16)          160000    \n",
      "_________________________________________________________________\n",
      "global_average_pooling1d (Gl (None, 16)                0         \n",
      "_________________________________________________________________\n",
      "dense (Dense)                (None, 16)                272       \n",
      "_________________________________________________________________\n",
      "dense_1 (Dense)              (None, 1)                 17        \n",
      "=================================================================\n",
      "Total params: 160,289\n",
      "Trainable params: 160,289\n",
      "Non-trainable params: 0\n",
      "_________________________________________________________________\n"
     ]
    }
   ],
   "source": [
    "###neural network\n",
    "vocab_size=10000\n",
    "#inputlayer\n",
    "model=keras.Sequential()\n",
    "model.add(keras.layers.Embedding(vocab_size, 16))\n",
    "#hiddenlayer\n",
    "model.add(keras.layers.GlobalAveragePooling1D())\n",
    "model.add(keras.layers.Dense(16, activation=tf.nn.relu))\n",
    "#output layer\n",
    "model.add(keras.layers.Dense(1, activation=tf.nn.sigmoid))\n",
    "\n",
    "\n",
    "model.summary()"
   ]
  },
  {
   "cell_type": "code",
   "execution_count": 8,
   "metadata": {},
   "outputs": [],
   "source": [
    "#loss function\n",
    "model.compile(optimizer=\"adam\",\n",
    "              loss=\"binary_crossentropy\",\n",
    "              metrics=[\"acc\"])\n",
    "\n",
    "\n",
    "x_val=train_data[:10000]\n",
    "partial_x_train=train_data[10000:]\n",
    "\n",
    "\n",
    "y_val=train_labels[:10000]\n",
    "partial_y_train=train_labels[10000:]"
   ]
  },
  {
   "cell_type": "code",
   "execution_count": 9,
   "metadata": {
    "scrolled": true
   },
   "outputs": [
    {
     "name": "stdout",
     "output_type": "stream",
     "text": [
      "Epoch 1/75\n",
      "200/200 [==============================] - 1s 4ms/step - loss: 0.6725 - acc: 0.6885 - val_loss: 0.6203 - val_acc: 0.7802\n",
      "Epoch 2/75\n",
      "200/200 [==============================] - 1s 3ms/step - loss: 0.5087 - acc: 0.8294 - val_loss: 0.4236 - val_acc: 0.8515\n",
      "Epoch 3/75\n",
      "200/200 [==============================] - 1s 3ms/step - loss: 0.3461 - acc: 0.8799 - val_loss: 0.3351 - val_acc: 0.8700\n",
      "Epoch 4/75\n",
      "200/200 [==============================] - 1s 3ms/step - loss: 0.2707 - acc: 0.9006 - val_loss: 0.2997 - val_acc: 0.8807\n",
      "Epoch 5/75\n",
      "200/200 [==============================] - 1s 3ms/step - loss: 0.2267 - acc: 0.9163 - val_loss: 0.2845 - val_acc: 0.8867\n",
      "Epoch 6/75\n",
      "200/200 [==============================] - 1s 3ms/step - loss: 0.1944 - acc: 0.9317 - val_loss: 0.2811 - val_acc: 0.8866\n",
      "Epoch 7/75\n",
      "200/200 [==============================] - 1s 3ms/step - loss: 0.1695 - acc: 0.9409 - val_loss: 0.2803 - val_acc: 0.8876\n",
      "Epoch 8/75\n",
      "200/200 [==============================] - 1s 3ms/step - loss: 0.1490 - acc: 0.9515 - val_loss: 0.2837 - val_acc: 0.8869\n",
      "Epoch 9/75\n",
      "200/200 [==============================] - 1s 3ms/step - loss: 0.1320 - acc: 0.9583 - val_loss: 0.2933 - val_acc: 0.8864\n",
      "Epoch 10/75\n",
      "200/200 [==============================] - 1s 3ms/step - loss: 0.1167 - acc: 0.9631 - val_loss: 0.2994 - val_acc: 0.8842\n",
      "Epoch 11/75\n",
      "200/200 [==============================] - 1s 3ms/step - loss: 0.1036 - acc: 0.9698 - val_loss: 0.3102 - val_acc: 0.8853\n",
      "Epoch 12/75\n",
      "200/200 [==============================] - 1s 3ms/step - loss: 0.0919 - acc: 0.9744 - val_loss: 0.3235 - val_acc: 0.8813\n",
      "Epoch 13/75\n",
      "200/200 [==============================] - 1s 3ms/step - loss: 0.0813 - acc: 0.9783 - val_loss: 0.3393 - val_acc: 0.8799\n",
      "Epoch 14/75\n",
      "200/200 [==============================] - 1s 3ms/step - loss: 0.0717 - acc: 0.9837 - val_loss: 0.3518 - val_acc: 0.8789\n",
      "Epoch 15/75\n",
      "200/200 [==============================] - 1s 3ms/step - loss: 0.0642 - acc: 0.9861 - val_loss: 0.3687 - val_acc: 0.8783\n",
      "Epoch 16/75\n",
      "200/200 [==============================] - 1s 4ms/step - loss: 0.0569 - acc: 0.9885 - val_loss: 0.3914 - val_acc: 0.8754\n",
      "Epoch 17/75\n",
      "200/200 [==============================] - 1s 4ms/step - loss: 0.0502 - acc: 0.9903 - val_loss: 0.4025 - val_acc: 0.8754\n",
      "Epoch 18/75\n",
      "200/200 [==============================] - 1s 3ms/step - loss: 0.0450 - acc: 0.9922 - val_loss: 0.4172 - val_acc: 0.8738\n",
      "Epoch 19/75\n",
      "200/200 [==============================] - 1s 3ms/step - loss: 0.0396 - acc: 0.9934 - val_loss: 0.4338 - val_acc: 0.8706\n",
      "Epoch 20/75\n",
      "200/200 [==============================] - 1s 3ms/step - loss: 0.0350 - acc: 0.9944 - val_loss: 0.4514 - val_acc: 0.8709\n",
      "Epoch 21/75\n",
      "200/200 [==============================] - 1s 3ms/step - loss: 0.0316 - acc: 0.9951 - val_loss: 0.4740 - val_acc: 0.8706\n",
      "Epoch 22/75\n",
      "200/200 [==============================] - 1s 3ms/step - loss: 0.0267 - acc: 0.9964 - val_loss: 0.4900 - val_acc: 0.8700\n",
      "Epoch 23/75\n",
      "200/200 [==============================] - 1s 3ms/step - loss: 0.0237 - acc: 0.9970 - val_loss: 0.5229 - val_acc: 0.8665\n",
      "Epoch 24/75\n",
      "200/200 [==============================] - 1s 3ms/step - loss: 0.0202 - acc: 0.9977 - val_loss: 0.5360 - val_acc: 0.8659\n",
      "Epoch 25/75\n",
      "200/200 [==============================] - 1s 3ms/step - loss: 0.0172 - acc: 0.9985 - val_loss: 0.5541 - val_acc: 0.8659\n",
      "Epoch 26/75\n",
      "200/200 [==============================] - 1s 3ms/step - loss: 0.0148 - acc: 0.9987 - val_loss: 0.5944 - val_acc: 0.8646\n",
      "Epoch 27/75\n",
      "200/200 [==============================] - 1s 3ms/step - loss: 0.0124 - acc: 0.9986 - val_loss: 0.6116 - val_acc: 0.8634\n",
      "Epoch 28/75\n",
      "200/200 [==============================] - 1s 3ms/step - loss: 0.0106 - acc: 0.9991 - val_loss: 0.6200 - val_acc: 0.8640\n",
      "Epoch 29/75\n",
      "200/200 [==============================] - 1s 3ms/step - loss: 0.0088 - acc: 0.9993 - val_loss: 0.6361 - val_acc: 0.8628\n",
      "Epoch 30/75\n",
      "200/200 [==============================] - 1s 3ms/step - loss: 0.0078 - acc: 0.9995 - val_loss: 0.6570 - val_acc: 0.8611\n",
      "Epoch 31/75\n",
      "200/200 [==============================] - 1s 3ms/step - loss: 0.0064 - acc: 0.9995 - val_loss: 0.6828 - val_acc: 0.8610\n",
      "Epoch 32/75\n",
      "200/200 [==============================] - 1s 3ms/step - loss: 0.0052 - acc: 0.9997 - val_loss: 0.7008 - val_acc: 0.8610\n",
      "Epoch 33/75\n",
      "200/200 [==============================] - 1s 3ms/step - loss: 0.0043 - acc: 0.9997 - val_loss: 0.7250 - val_acc: 0.8616\n",
      "Epoch 34/75\n",
      "200/200 [==============================] - 1s 3ms/step - loss: 0.0036 - acc: 0.9998 - val_loss: 0.7527 - val_acc: 0.8607\n",
      "Epoch 35/75\n",
      "200/200 [==============================] - 1s 3ms/step - loss: 0.0030 - acc: 0.9999 - val_loss: 0.7723 - val_acc: 0.8602\n",
      "Epoch 36/75\n",
      "200/200 [==============================] - 1s 3ms/step - loss: 0.0026 - acc: 0.9999 - val_loss: 0.8028 - val_acc: 0.8587\n",
      "Epoch 37/75\n",
      "200/200 [==============================] - 1s 3ms/step - loss: 0.0024 - acc: 0.9999 - val_loss: 0.8128 - val_acc: 0.8594\n",
      "Epoch 38/75\n",
      "200/200 [==============================] - 1s 3ms/step - loss: 0.0020 - acc: 0.9999 - val_loss: 0.8312 - val_acc: 0.8588\n",
      "Epoch 39/75\n",
      "200/200 [==============================] - 1s 3ms/step - loss: 0.0018 - acc: 0.9999 - val_loss: 0.8612 - val_acc: 0.8589\n",
      "Epoch 40/75\n",
      "200/200 [==============================] - 1s 3ms/step - loss: 0.0015 - acc: 0.9999 - val_loss: 0.8699 - val_acc: 0.8580\n",
      "Epoch 41/75\n",
      "200/200 [==============================] - 1s 3ms/step - loss: 0.0013 - acc: 1.0000 - val_loss: 0.8868 - val_acc: 0.8581\n",
      "Epoch 42/75\n",
      "200/200 [==============================] - 1s 4ms/step - loss: 0.0012 - acc: 0.9999 - val_loss: 0.9138 - val_acc: 0.8578\n",
      "Epoch 43/75\n",
      "200/200 [==============================] - 1s 4ms/step - loss: 0.0010 - acc: 0.9999 - val_loss: 0.9260 - val_acc: 0.8574\n",
      "Epoch 44/75\n",
      "200/200 [==============================] - 1s 4ms/step - loss: 0.0010 - acc: 0.9999 - val_loss: 0.9488 - val_acc: 0.8571\n",
      "Epoch 45/75\n",
      "200/200 [==============================] - 1s 4ms/step - loss: 8.4684e-04 - acc: 1.0000 - val_loss: 0.9708 - val_acc: 0.8568\n",
      "Epoch 46/75\n",
      "200/200 [==============================] - 1s 3ms/step - loss: 7.4360e-04 - acc: 0.9999 - val_loss: 0.9873 - val_acc: 0.8561\n",
      "Epoch 47/75\n",
      "200/200 [==============================] - 1s 3ms/step - loss: 6.3804e-04 - acc: 0.9999 - val_loss: 0.9975 - val_acc: 0.8567\n",
      "Epoch 48/75\n",
      "200/200 [==============================] - 1s 3ms/step - loss: 5.8145e-04 - acc: 0.9999 - val_loss: 1.0232 - val_acc: 0.8553\n",
      "Epoch 49/75\n",
      "200/200 [==============================] - 1s 3ms/step - loss: 5.2474e-04 - acc: 1.0000 - val_loss: 1.0329 - val_acc: 0.8565\n",
      "Epoch 50/75\n",
      "200/200 [==============================] - 1s 3ms/step - loss: 4.6432e-04 - acc: 1.0000 - val_loss: 1.0450 - val_acc: 0.8549\n",
      "Epoch 51/75\n",
      "200/200 [==============================] - 1s 3ms/step - loss: 4.0911e-04 - acc: 1.0000 - val_loss: 1.0704 - val_acc: 0.8559\n",
      "Epoch 52/75\n",
      "200/200 [==============================] - 1s 4ms/step - loss: 3.7853e-04 - acc: 1.0000 - val_loss: 1.0914 - val_acc: 0.8557\n",
      "Epoch 53/75\n",
      "200/200 [==============================] - 1s 3ms/step - loss: 3.3016e-04 - acc: 1.0000 - val_loss: 1.1337 - val_acc: 0.8544\n",
      "Epoch 54/75\n",
      "200/200 [==============================] - 1s 4ms/step - loss: 2.7997e-04 - acc: 1.0000 - val_loss: 1.1173 - val_acc: 0.8542\n",
      "Epoch 55/75\n",
      "200/200 [==============================] - 1s 3ms/step - loss: 2.7787e-04 - acc: 1.0000 - val_loss: 1.1423 - val_acc: 0.8535\n",
      "Epoch 56/75\n",
      "200/200 [==============================] - 1s 3ms/step - loss: 1.8974e-04 - acc: 1.0000 - val_loss: 1.1542 - val_acc: 0.8536\n",
      "Epoch 57/75\n",
      "200/200 [==============================] - 1s 3ms/step - loss: 1.8570e-04 - acc: 1.0000 - val_loss: 1.2058 - val_acc: 0.8532\n",
      "Epoch 58/75\n",
      "200/200 [==============================] - 1s 3ms/step - loss: 1.8890e-04 - acc: 1.0000 - val_loss: 1.1847 - val_acc: 0.8536\n",
      "Epoch 59/75\n",
      "200/200 [==============================] - 1s 4ms/step - loss: 1.6397e-04 - acc: 1.0000 - val_loss: 1.2113 - val_acc: 0.8534\n",
      "Epoch 60/75\n",
      "200/200 [==============================] - 1s 3ms/step - loss: 1.3518e-04 - acc: 1.0000 - val_loss: 1.2175 - val_acc: 0.8532\n",
      "Epoch 61/75\n",
      "200/200 [==============================] - 1s 3ms/step - loss: 1.1618e-04 - acc: 1.0000 - val_loss: 1.2462 - val_acc: 0.8532\n",
      "Epoch 62/75\n"
     ]
    },
    {
     "name": "stdout",
     "output_type": "stream",
     "text": [
      "200/200 [==============================] - 1s 4ms/step - loss: 1.0472e-04 - acc: 1.0000 - val_loss: 1.2431 - val_acc: 0.8537\n",
      "Epoch 63/75\n",
      "200/200 [==============================] - 1s 3ms/step - loss: 8.8113e-05 - acc: 1.0000 - val_loss: 1.2684 - val_acc: 0.8534\n",
      "Epoch 64/75\n",
      "200/200 [==============================] - 1s 4ms/step - loss: 9.3739e-05 - acc: 1.0000 - val_loss: 1.2798 - val_acc: 0.8532\n",
      "Epoch 65/75\n",
      "200/200 [==============================] - 1s 3ms/step - loss: 7.8214e-05 - acc: 1.0000 - val_loss: 1.2975 - val_acc: 0.8536\n",
      "Epoch 66/75\n",
      "200/200 [==============================] - 1s 3ms/step - loss: 7.8281e-05 - acc: 1.0000 - val_loss: 1.3205 - val_acc: 0.8531\n",
      "Epoch 67/75\n",
      "200/200 [==============================] - 1s 3ms/step - loss: 8.0226e-05 - acc: 1.0000 - val_loss: 1.3430 - val_acc: 0.8526\n",
      "Epoch 68/75\n",
      "200/200 [==============================] - 1s 3ms/step - loss: 5.2060e-05 - acc: 1.0000 - val_loss: 1.3522 - val_acc: 0.8531\n",
      "Epoch 69/75\n",
      "200/200 [==============================] - 1s 3ms/step - loss: 4.6251e-05 - acc: 1.0000 - val_loss: 1.3714 - val_acc: 0.8520\n",
      "Epoch 70/75\n",
      "200/200 [==============================] - 1s 3ms/step - loss: 4.0662e-05 - acc: 1.0000 - val_loss: 1.3735 - val_acc: 0.8527\n",
      "Epoch 71/75\n",
      "200/200 [==============================] - 1s 3ms/step - loss: 3.6052e-05 - acc: 1.0000 - val_loss: 1.4166 - val_acc: 0.8518\n",
      "Epoch 72/75\n",
      "200/200 [==============================] - 1s 4ms/step - loss: 2.7166e-04 - acc: 1.0000 - val_loss: 1.4099 - val_acc: 0.8530\n",
      "Epoch 73/75\n",
      "200/200 [==============================] - 1s 4ms/step - loss: 1.3439e-04 - acc: 1.0000 - val_loss: 1.4425 - val_acc: 0.8501\n",
      "Epoch 74/75\n",
      "200/200 [==============================] - 1s 3ms/step - loss: 3.9422e-05 - acc: 1.0000 - val_loss: 1.4534 - val_acc: 0.8509\n",
      "Epoch 75/75\n",
      "200/200 [==============================] - 1s 3ms/step - loss: 2.9463e-05 - acc: 1.0000 - val_loss: 1.4633 - val_acc: 0.8507\n"
     ]
    }
   ],
   "source": [
    "history=model.fit(partial_x_train,\n",
    "                  partial_y_train,\n",
    "                  epochs=75,\n",
    "                  batch_size=75,\n",
    "                  validation_data=(x_val, y_val),\n",
    "                  verbose=1)\n"
   ]
  },
  {
   "cell_type": "code",
   "execution_count": 10,
   "metadata": {
    "scrolled": true
   },
   "outputs": [
    {
     "name": "stdout",
     "output_type": "stream",
     "text": [
      "782/782 [==============================] - 1s 886us/step - loss: 1.5644 - acc: 0.8394\n",
      "[1.5644199848175049, 0.8393999934196472]\n"
     ]
    }
   ],
   "source": [
    "results=model.evaluate(test_data,test_labels)\n",
    "print(results)"
   ]
  }
 ],
 "metadata": {
  "kernelspec": {
   "display_name": "Python 3",
   "language": "python",
   "name": "python3"
  },
  "language_info": {
   "codemirror_mode": {
    "name": "ipython",
    "version": 3
   },
   "file_extension": ".py",
   "mimetype": "text/x-python",
   "name": "python",
   "nbconvert_exporter": "python",
   "pygments_lexer": "ipython3",
   "version": "3.7.5"
  }
 },
 "nbformat": 4,
 "nbformat_minor": 2
}
